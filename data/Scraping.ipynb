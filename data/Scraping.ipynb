{
 "cells": [
  {
   "cell_type": "code",
   "execution_count": null,
   "metadata": {},
   "outputs": [],
   "source": [
    "from bs4 import BeautifulSoup\n",
    "import requests\n",
    "import re\n",
    "import pandas as pd\n",
    "from tqdm import tqdm\n",
    "from datetime import date, datetime\n",
    "import time"
   ]
  },
  {
   "cell_type": "code",
   "execution_count": null,
   "metadata": {},
   "outputs": [],
   "source": [
    "startyear = 2017\n",
    "endyear = 2018\n",
    "d0 = date(1899, 12, 30)"
   ]
  },
  {
   "cell_type": "code",
   "execution_count": null,
   "metadata": {
    "scrolled": true
   },
   "outputs": [],
   "source": [
    "for y in range(startyear, endyear+1):\n",
    "    results = []\n",
    "    if y>datetime.now().year:\n",
    "        break\n",
    "        \n",
    "    for m in range(1, 12+1):\n",
    "        if y==datetime.now().year and m>datetime.now().month:\n",
    "            break\n",
    "            \n",
    "        if m==1 or m==3 or m==5 or m==7 or m==8 or m==10 or m==12: days = 31\n",
    "        elif m==4 or m==6 or m==9 or m==11: days = 30\n",
    "        else:\n",
    "            if y%4==0 and (y%400==0 or y%100!=0): days = 29\n",
    "            else: days = 28\n",
    "        \n",
    "        for d in tqdm(range(1, days+1)):\n",
    "            if y==datetime.now().year and m>datetime.now().month and d>=datetime.now().day:\n",
    "                break\n",
    "                \n",
    "            d1 = date(y, m, d)\n",
    "            delta = d1 - d0\n",
    "            \n",
    "            time.sleep(2)\n",
    "            \n",
    "            page_link = 'https://timesofindia.indiatimes.com/{}/{}/{}/archivelist/year-{},month-{},starttime-{}.cms'.format(y, m, d, y, m, delta.days)\n",
    "            page_response = requests.get(page_link)\n",
    "            page_content = BeautifulSoup(page_response.content, \"html.parser\")\n",
    "            \n",
    "            for link in page_content.find_all('a', href=True):\n",
    "                if 'http://timesofindia.indiatimes.com//' in link['href']:\n",
    "                    article = []\n",
    "                    article.append(m)\n",
    "                    article.append(y)\n",
    "                    article.append(link.text)\n",
    "                    article.append(link['href'])\n",
    "                    if 'HIV' in link.text:\n",
    "                        results.append(article)\n",
    "                        \n",
    "    alpha = pd.DataFrame(results, columns=['month', 'year', 'name', 'link'])\n",
    "    file_name = str(y) + '.csv'\n",
    "    alpha.to_csv(file_name)\n",
    "    print(file_name)"
   ]
  },
  {
   "cell_type": "code",
   "execution_count": null,
   "metadata": {},
   "outputs": [],
   "source": [
    "for y in range(startyear, endyear+1):\n",
    "    link_file = str(y) + '.csv'\n",
    "    alpha = pd.read_csv(link_file, index_col=0)\n",
    "    results = []\n",
    "    \n",
    "    for link in tqdm(range(len(alpha))):\n",
    "\n",
    "        time.sleep(2)\n",
    "\n",
    "        page_link = alpha.link[link]\n",
    "        page_response = requests.get(page_link)\n",
    "        page_content = BeautifulSoup(page_response.content, \"html.parser\")\n",
    "        string = page_content.find_all('div', attrs={'class':'Normal'})\n",
    "\n",
    "        if len(string)!=0:\n",
    "\n",
    "            string = re.sub('<[^>]+>', '', str(string[0]))\n",
    "            string = re.sub('\\n', '', str(string))\n",
    "            string = re.sub(' +', ' ', str(string))\n",
    "\n",
    "            month = str(alpha.month[link])\n",
    "            year = str(alpha.year[link])\n",
    "\n",
    "            article = []\n",
    "\n",
    "            article.append(month)\n",
    "            article.append(year)\n",
    "            article.append(alpha.name[link])\n",
    "            article.append(alpha.link[link])\n",
    "            article.append(string)\n",
    "\n",
    "            results.append(article)\n",
    "\n",
    "    alpha = pd.DataFrame(results, columns=['month', 'year', 'name', 'link', 'article'])\n",
    "    file_name = str(y) + '_articles.csv'\n",
    "    alpha.to_csv(file_name)"
   ]
  },
  {
   "cell_type": "code",
   "execution_count": null,
   "metadata": {
    "scrolled": true
   },
   "outputs": [],
   "source": [
    "alpha"
   ]
  },
  {
   "cell_type": "code",
   "execution_count": null,
   "metadata": {},
   "outputs": [],
   "source": []
  }
 ],
 "metadata": {
  "kernelspec": {
   "display_name": "Python 3",
   "language": "python",
   "name": "python3"
  },
  "language_info": {
   "codemirror_mode": {
    "name": "ipython",
    "version": 3
   },
   "file_extension": ".py",
   "mimetype": "text/x-python",
   "name": "python",
   "nbconvert_exporter": "python",
   "pygments_lexer": "ipython3",
   "version": "3.7.0"
  }
 },
 "nbformat": 4,
 "nbformat_minor": 2
}
